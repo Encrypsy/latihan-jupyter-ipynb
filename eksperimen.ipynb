{
 "cells": [
  {
   "cell_type": "markdown",
   "id": "4f93d656-27d3-433e-a115-f9ed93af8955",
   "metadata": {},
   "source": [
    "#NOTEBOOK PERTAMA"
   ]
  },
  {
   "cell_type": "code",
   "execution_count": 1,
   "id": "dabbc2d0-84b0-4194-9d55-b1624abbec6c",
   "metadata": {},
   "outputs": [
    {
     "name": "stdout",
     "output_type": "stream",
     "text": [
      "Hello World\n"
     ]
    }
   ],
   "source": [
    "print('Hello World')"
   ]
  },
  {
   "cell_type": "markdown",
   "id": "ad748182-9469-4400-97dd-bb50f39b54db",
   "metadata": {},
   "source": [
    "jadi kalo mau run jangan klik tombol play lagi\n",
    "ada keyboard shorcut nya (SHIFT + ENTER)"
   ]
  },
  {
   "cell_type": "code",
   "execution_count": 3,
   "id": "48d4ad83-782d-43bd-b318-66ac5dfc036c",
   "metadata": {},
   "outputs": [
    {
     "name": "stdout",
     "output_type": "stream",
     "text": [
      "\n",
      "[ Info Kendaraan (Mobil) ]\n",
      "> Merk : Toyota\n",
      "> Warna : putih\n",
      "        \n",
      "\n",
      "[ Info Kendaraan (Motor) ]\n",
      "> Merk : Beat\n",
      "> Warna : putih\n",
      "        \n"
     ]
    }
   ],
   "source": [
    "class Kendaraan:\n",
    "    def __init__ (self, merk, warna, jenis):\n",
    "        self.merk = merk\n",
    "        self.warna = warna\n",
    "        self.jenis = jenis\n",
    "\n",
    "    def info (self):\n",
    "        print(f'''\n",
    "[ Info Kendaraan ({self.jenis}) ]\n",
    "> Merk : {self.merk}\n",
    "> Warna : {self.warna}\n",
    "        ''')\n",
    "\n",
    "class Mobil (Kendaraan):\n",
    "    def __init__(self, merk, warna):\n",
    "        super().__init__(merk, warna, 'Mobil')\n",
    "\n",
    "class Motor (Kendaraan):\n",
    "    def __init__(self, merk, warna):\n",
    "        super().__init__(merk, warna, 'Motor')\n",
    "\n",
    "mobil = Mobil('Toyota', 'putih')\n",
    "motor = Motor('Beat', 'putih')\n",
    "\n",
    "kendaraan = [mobil, motor]\n",
    "\n",
    "for i in kendaraan:\n",
    "    i.info()"
   ]
  },
  {
   "cell_type": "code",
   "execution_count": null,
   "id": "87a7ff77-dade-4875-a6b5-5460613db11e",
   "metadata": {},
   "outputs": [],
   "source": []
  }
 ],
 "metadata": {
  "kernelspec": {
   "display_name": "Python 3 (ipykernel)",
   "language": "python",
   "name": "python3"
  },
  "language_info": {
   "codemirror_mode": {
    "name": "ipython",
    "version": 3
   },
   "file_extension": ".py",
   "mimetype": "text/x-python",
   "name": "python",
   "nbconvert_exporter": "python",
   "pygments_lexer": "ipython3",
   "version": "3.11.9"
  }
 },
 "nbformat": 4,
 "nbformat_minor": 5
}
